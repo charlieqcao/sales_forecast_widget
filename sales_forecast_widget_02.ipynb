{
 "cells": [
  {
   "cell_type": "code",
   "execution_count": 1,
   "metadata": {},
   "outputs": [],
   "source": [
    "import pandas as pd\n",
    "import numpy as np\n",
    "import matplotlib.pyplot as plt\n",
    "from ipywidgets import interact\n",
    "\n",
    "df_sales = pd.read_csv('Data/sales.csv')\n",
    "df_features = pd.read_csv('Data/features.csv')\n",
    "df_stores = pd.read_csv('Data/stores.csv')\n",
    "\n",
    "df_sales['Date'] = pd.to_datetime(df_sales['Date'], format='%d/%m/%Y')\n",
    "df_features['Date'] = pd.to_datetime(df_features['Date'], format='%d/%m/%Y')"
   ]
  },
  {
   "cell_type": "code",
   "execution_count": 2,
   "metadata": {},
   "outputs": [
    {
     "data": {
      "application/vnd.jupyter.widget-view+json": {
       "model_id": "b963000f7c044ee782bab5d4783dd2ff",
       "version_major": 2,
       "version_minor": 0
      },
      "text/plain": [
       "interactive(children=(Dropdown(description='dept_num', options={1: 1, 2: 2, 3: 3, 4: 4, 5: 5, 6: 6, 7: 7, 8: 8…"
      ]
     },
     "metadata": {},
     "output_type": "display_data"
    },
    {
     "data": {
      "text/plain": [
       "<function __main__.sales_viz_bydept(dept_num)>"
      ]
     },
     "execution_count": 2,
     "metadata": {},
     "output_type": "execute_result"
    }
   ],
   "source": [
    "def sales_viz_bydept(dept_num):\n",
    "    sales_temp = df_sales[df_sales.Dept==dept_num][['Date', 'Store', 'Weekly_Sales']]\n",
    "    ts_sales_temp = sales_temp.set_index('Date')\n",
    "    ts_sales_temp.groupby('Store').plot(figsize=(10,5),ax=plt.gca(),legend=False)\n",
    "    return plt.show()\n",
    "\n",
    "interact(sales_viz_bydept, dept_num={n:n for n in range(1,100)})"
   ]
  },
  {
   "cell_type": "code",
   "execution_count": 3,
   "metadata": {},
   "outputs": [
    {
     "data": {
      "application/vnd.jupyter.widget-view+json": {
       "model_id": "e302e93946a64a9ca82c411996976e0f",
       "version_major": 2,
       "version_minor": 0
      },
      "text/plain": [
       "interactive(children=(Dropdown(description='store_num', options={1: 1, 2: 2, 3: 3, 4: 4, 5: 5, 6: 6, 7: 7, 8: …"
      ]
     },
     "metadata": {},
     "output_type": "display_data"
    },
    {
     "data": {
      "text/plain": [
       "<function __main__.sales_viz_bystore(store_num)>"
      ]
     },
     "execution_count": 3,
     "metadata": {},
     "output_type": "execute_result"
    }
   ],
   "source": [
    "def sales_viz_bystore(store_num):\n",
    "    sales_temp = df_sales[df_sales.Store==store_num][['Date', 'Dept', 'Weekly_Sales']]\n",
    "    ts_sales_temp = sales_temp.set_index('Date')\n",
    "    ts_sales_temp.groupby('Dept').plot(figsize=(10,5),ax=plt.gca(),legend=False)\n",
    "    return plt.show()\n",
    "\n",
    "interact(sales_viz_bystore, store_num={n:n for n in range(1,46)})"
   ]
  }
 ],
 "metadata": {
  "kernelspec": {
   "display_name": "Python 3",
   "language": "python",
   "name": "python3"
  },
  "language_info": {
   "codemirror_mode": {
    "name": "ipython",
    "version": 3
   },
   "file_extension": ".py",
   "mimetype": "text/x-python",
   "name": "python",
   "nbconvert_exporter": "python",
   "pygments_lexer": "ipython3",
   "version": "3.7.7"
  },
  "toc": {
   "base_numbering": 1,
   "nav_menu": {},
   "number_sections": false,
   "sideBar": true,
   "skip_h1_title": false,
   "title_cell": "Table of Contents",
   "title_sidebar": "Contents",
   "toc_cell": false,
   "toc_position": {},
   "toc_section_display": true,
   "toc_window_display": false
  }
 },
 "nbformat": 4,
 "nbformat_minor": 4
}
